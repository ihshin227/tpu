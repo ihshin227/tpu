{
  "nbformat": 4,
  "nbformat_minor": 0,
  "metadata": {
    "colab": {
      "name": "Keras LSTM and RNN convert to tensorflow lite test",
      "provenance": [],
      "collapsed_sections": [],
      "authorship_tag": "ABX9TyOBjXyDcshmzeUfLWRm6PPD",
      "include_colab_link": true
    },
    "kernelspec": {
      "name": "python3",
      "display_name": "Python 3"
    }
  },
  "cells": [
    {
      "cell_type": "markdown",
      "metadata": {
        "id": "view-in-github",
        "colab_type": "text"
      },
      "source": [
        "<a href=\"https://colab.research.google.com/github/ihshin227/tpu/blob/master/Keras_LSTM_and_RNN_convert_to_tensorflow_lite_test.ipynb\" target=\"_parent\"><img src=\"https://colab.research.google.com/assets/colab-badge.svg\" alt=\"Open In Colab\"/></a>"
      ]
    },
    {
      "cell_type": "code",
      "metadata": {
        "id": "_Zn4oKnWdil1",
        "colab_type": "code",
        "colab": {}
      },
      "source": [
        "import numpy as np\n",
        "import tensorflow as tf"
      ],
      "execution_count": 0,
      "outputs": []
    },
    {
      "cell_type": "code",
      "metadata": {
        "id": "YmaMoYMwgXzC",
        "colab_type": "code",
        "colab": {}
      },
      "source": [
        "model = tf.keras.models.Sequential()\n",
        "model.add(tf.keras.layers.SimpleRNN(4, return_sequences=True))\n",
        "model.add(tf.keras.layers.SimpleRNN(4))\n",
        "model.add(tf.keras.layers.Dense(units=1, input_shape=[32,4]))\n",
        "model.compile(optimizer='sgd', loss='mean_squared_error')\n",
        "\n",
        "# model = tf.keras.models.Sequential()\n",
        "# model.add(tf.keras.layers.LSTM(4, return_sequences=True))\n",
        "# model.add(tf.keras.layers.LSTM(4))\n",
        "# model.add(tf.keras.layers.Dense(units=1, input_shape=[32,4]))\n",
        "# model.compile(optimizer='sgd', loss='mean_squared_error')"
      ],
      "execution_count": 0,
      "outputs": []
    },
    {
      "cell_type": "code",
      "metadata": {
        "id": "W0KOGhU-kkFb",
        "colab_type": "code",
        "outputId": "eae647a3-9d06-4c12-bb4a-0a80659c20e8",
        "colab": {
          "base_uri": "https://localhost:8080/",
          "height": 714
        }
      },
      "source": [
        "inputs = np.random.random([32, 18, 18]).astype(np.float32)\n",
        "targets = np.random.rand(32).astype(np.float32)\n",
        "\n",
        "model.fit(inputs, targets, epochs=20)"
      ],
      "execution_count": 0,
      "outputs": [
        {
          "output_type": "stream",
          "text": [
            "Epoch 1/20\n",
            "1/1 [==============================] - 0s 1ms/step - loss: 0.8218\n",
            "Epoch 2/20\n",
            "1/1 [==============================] - 0s 4ms/step - loss: 0.1968\n",
            "Epoch 3/20\n",
            "1/1 [==============================] - 0s 1ms/step - loss: 0.1791\n",
            "Epoch 4/20\n",
            "1/1 [==============================] - 0s 1ms/step - loss: 0.1700\n",
            "Epoch 5/20\n",
            "1/1 [==============================] - 0s 2ms/step - loss: 0.1640\n",
            "Epoch 6/20\n",
            "1/1 [==============================] - 0s 1ms/step - loss: 0.1594\n",
            "Epoch 7/20\n",
            "1/1 [==============================] - 0s 996us/step - loss: 0.1555\n",
            "Epoch 8/20\n",
            "1/1 [==============================] - 0s 1ms/step - loss: 0.1519\n",
            "Epoch 9/20\n",
            "1/1 [==============================] - 0s 1ms/step - loss: 0.1485\n",
            "Epoch 10/20\n",
            "1/1 [==============================] - 0s 1ms/step - loss: 0.1454\n",
            "Epoch 11/20\n",
            "1/1 [==============================] - 0s 1ms/step - loss: 0.1424\n",
            "Epoch 12/20\n",
            "1/1 [==============================] - 0s 1ms/step - loss: 0.1395\n",
            "Epoch 13/20\n",
            "1/1 [==============================] - 0s 1ms/step - loss: 0.1368\n",
            "Epoch 14/20\n",
            "1/1 [==============================] - 0s 901us/step - loss: 0.1342\n",
            "Epoch 15/20\n",
            "1/1 [==============================] - 0s 1ms/step - loss: 0.1317\n",
            "Epoch 16/20\n",
            "1/1 [==============================] - 0s 2ms/step - loss: 0.1294\n",
            "Epoch 17/20\n",
            "1/1 [==============================] - 0s 1ms/step - loss: 0.1271\n",
            "Epoch 18/20\n",
            "1/1 [==============================] - 0s 1ms/step - loss: 0.1249\n",
            "Epoch 19/20\n",
            "1/1 [==============================] - 0s 2ms/step - loss: 0.1229\n",
            "Epoch 20/20\n",
            "1/1 [==============================] - 0s 1ms/step - loss: 0.1209\n"
          ],
          "name": "stdout"
        },
        {
          "output_type": "execute_result",
          "data": {
            "text/plain": [
              "<tensorflow.python.keras.callbacks.History at 0x7fbc540edb00>"
            ]
          },
          "metadata": {
            "tags": []
          },
          "execution_count": 33
        }
      ]
    },
    {
      "cell_type": "code",
      "metadata": {
        "id": "tSJV_Ja1lNGX",
        "colab_type": "code",
        "colab": {}
      },
      "source": [
        "converter = tf.lite.TFLiteConverter.from_keras_model(model)"
      ],
      "execution_count": 0,
      "outputs": []
    },
    {
      "cell_type": "code",
      "metadata": {
        "id": "0r2-oSaKmjyI",
        "colab_type": "code",
        "colab": {}
      },
      "source": [
        "tflite_model = converter.convert()"
      ],
      "execution_count": 0,
      "outputs": []
    },
    {
      "cell_type": "code",
      "metadata": {
        "id": "mfOtKo9LmoiB",
        "colab_type": "code",
        "colab": {}
      },
      "source": [
        "interpreter = tf.lite.Interpreter(model_content=tflite_model)\n",
        "interpreter.allocate_tensors()"
      ],
      "execution_count": 0,
      "outputs": []
    },
    {
      "cell_type": "code",
      "metadata": {
        "id": "eGKhWP2Am8Oh",
        "colab_type": "code",
        "colab": {}
      },
      "source": [
        "input_details = interpreter.get_input_details()\n",
        "output_details = interpreter.get_output_details()"
      ],
      "execution_count": 0,
      "outputs": []
    },
    {
      "cell_type": "code",
      "metadata": {
        "id": "87540LXfnVFr",
        "colab_type": "code",
        "colab": {}
      },
      "source": [
        "input_shape = input_details[0]['shape']\n",
        "input_data = np.array(np.random.random_sample(input_shape), dtype=np.float32)\n",
        "interpreter.set_tensor(input_details[0]['index'], input_data)"
      ],
      "execution_count": 0,
      "outputs": []
    },
    {
      "cell_type": "code",
      "metadata": {
        "id": "mJLi5GmxnxDd",
        "colab_type": "code",
        "colab": {}
      },
      "source": [
        "interpreter.invoke()"
      ],
      "execution_count": 0,
      "outputs": []
    },
    {
      "cell_type": "code",
      "metadata": {
        "id": "cVVz9BSznzMv",
        "colab_type": "code",
        "colab": {}
      },
      "source": [
        "tflite_result = interpreter.get_tensor(output_details[0]['index'])"
      ],
      "execution_count": 0,
      "outputs": []
    },
    {
      "cell_type": "code",
      "metadata": {
        "id": "YOL65yR7oAkb",
        "colab_type": "code",
        "colab": {}
      },
      "source": [
        "tf_results = model(tf.constant(input_data))"
      ],
      "execution_count": 0,
      "outputs": []
    },
    {
      "cell_type": "code",
      "metadata": {
        "id": "wXlVnzOVoHvk",
        "colab_type": "code",
        "outputId": "1cb06dfd-15f4-4e78-b211-d6edd617fd90",
        "colab": {
          "base_uri": "https://localhost:8080/",
          "height": 561
        }
      },
      "source": [
        "for tf_r, tflite_r in zip(tf_results, tflite_result):\n",
        "  np.testing.assert_almost_equal(tf_r, tflite_r, decimal=5)\n",
        "  print(tf_r, tflite_r)"
      ],
      "execution_count": 0,
      "outputs": [
        {
          "output_type": "stream",
          "text": [
            "tf.Tensor([0.06198855], shape=(1,), dtype=float32) [0.06198839]\n",
            "tf.Tensor([0.5964721], shape=(1,), dtype=float32) [0.59647214]\n",
            "tf.Tensor([0.94845533], shape=(1,), dtype=float32) [0.94845533]\n",
            "tf.Tensor([0.84689415], shape=(1,), dtype=float32) [0.8468942]\n",
            "tf.Tensor([0.4987081], shape=(1,), dtype=float32) [0.4987081]\n",
            "tf.Tensor([0.68650234], shape=(1,), dtype=float32) [0.68650246]\n",
            "tf.Tensor([0.93921655], shape=(1,), dtype=float32) [0.93921643]\n",
            "tf.Tensor([0.8302045], shape=(1,), dtype=float32) [0.8302043]\n",
            "tf.Tensor([1.0425596], shape=(1,), dtype=float32) [1.0425596]\n",
            "tf.Tensor([0.4070053], shape=(1,), dtype=float32) [0.40700546]\n",
            "tf.Tensor([0.9470096], shape=(1,), dtype=float32) [0.94700974]\n",
            "tf.Tensor([1.1175016], shape=(1,), dtype=float32) [1.1175017]\n",
            "tf.Tensor([0.75643617], shape=(1,), dtype=float32) [0.75643617]\n",
            "tf.Tensor([0.43131533], shape=(1,), dtype=float32) [0.4313154]\n",
            "tf.Tensor([0.93861514], shape=(1,), dtype=float32) [0.9386149]\n",
            "tf.Tensor([0.96563256], shape=(1,), dtype=float32) [0.96563244]\n",
            "tf.Tensor([0.9094848], shape=(1,), dtype=float32) [0.9094849]\n",
            "tf.Tensor([0.82980907], shape=(1,), dtype=float32) [0.8298091]\n",
            "tf.Tensor([0.8833631], shape=(1,), dtype=float32) [0.8833632]\n",
            "tf.Tensor([0.9953218], shape=(1,), dtype=float32) [0.9953217]\n",
            "tf.Tensor([0.42929986], shape=(1,), dtype=float32) [0.42929962]\n",
            "tf.Tensor([0.19732648], shape=(1,), dtype=float32) [0.19732642]\n",
            "tf.Tensor([1.0016047], shape=(1,), dtype=float32) [1.0016047]\n",
            "tf.Tensor([0.85952604], shape=(1,), dtype=float32) [0.85952604]\n",
            "tf.Tensor([0.6102958], shape=(1,), dtype=float32) [0.6102956]\n",
            "tf.Tensor([1.1229331], shape=(1,), dtype=float32) [1.1229333]\n",
            "tf.Tensor([0.6701584], shape=(1,), dtype=float32) [0.67015845]\n",
            "tf.Tensor([0.6099503], shape=(1,), dtype=float32) [0.60995024]\n",
            "tf.Tensor([0.94140947], shape=(1,), dtype=float32) [0.94140935]\n",
            "tf.Tensor([0.89513093], shape=(1,), dtype=float32) [0.8951311]\n",
            "tf.Tensor([0.15804197], shape=(1,), dtype=float32) [0.15804227]\n",
            "tf.Tensor([-0.11005807], shape=(1,), dtype=float32) [-0.11005808]\n"
          ],
          "name": "stdout"
        }
      ]
    },
    {
      "cell_type": "code",
      "metadata": {
        "id": "UKTTJJ4Uojcb",
        "colab_type": "code",
        "outputId": "69120ee5-63a9-4601-fd0e-759dfc9704c1",
        "colab": {
          "base_uri": "https://localhost:8080/",
          "height": 255
        }
      },
      "source": [
        "model.summary()"
      ],
      "execution_count": 0,
      "outputs": [
        {
          "output_type": "stream",
          "text": [
            "Model: \"sequential_6\"\n",
            "_________________________________________________________________\n",
            "Layer (type)                 Output Shape              Param #   \n",
            "=================================================================\n",
            "simple_rnn_2 (SimpleRNN)     multiple                  92        \n",
            "_________________________________________________________________\n",
            "simple_rnn_3 (SimpleRNN)     multiple                  36        \n",
            "_________________________________________________________________\n",
            "dense_4 (Dense)              multiple                  5         \n",
            "=================================================================\n",
            "Total params: 133\n",
            "Trainable params: 133\n",
            "Non-trainable params: 0\n",
            "_________________________________________________________________\n"
          ],
          "name": "stdout"
        }
      ]
    },
    {
      "cell_type": "code",
      "metadata": {
        "id": "hyBGFYdTpvQe",
        "colab_type": "code",
        "colab": {}
      },
      "source": [
        "tflite_model.summary()"
      ],
      "execution_count": 0,
      "outputs": []
    },
    {
      "cell_type": "code",
      "metadata": {
        "id": "T8mJ54bcpzhF",
        "colab_type": "code",
        "colab": {}
      },
      "source": [
        ""
      ],
      "execution_count": 0,
      "outputs": []
    }
  ]
}